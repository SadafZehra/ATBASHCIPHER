{
 "cells": [
  {
   "cell_type": "code",
   "execution_count": 1,
   "metadata": {},
   "outputs": [],
   "source": [
    "dictCapAlpha = {'A' : 'Z', 'B' : 'Y', 'C' : 'X', 'D' : 'W', 'E' : 'V', \n",
    "        'F' : 'U', 'G' : 'T', 'H' : 'S', 'I' : 'R', 'J' : 'Q', \n",
    "        'K' : 'P', 'L' : 'O', 'M' : 'N', 'N' : 'M', 'O' : 'L', \n",
    "        'P' : 'K', 'Q' : 'J', 'R' : 'I', 'S' : 'H', 'T' : 'G', \n",
    "        'U' : 'F', 'V' : 'E', 'W' : 'D', 'X' : 'C', 'Y' : 'B', 'Z' : 'A'} \n",
    "dictSmallAlpha = {'a' : 'z' , 'b' : 'y', 'c' : 'x', 'd' : 'w', 'e' : 'v', 'f' : 'u', 'g' : 't',\n",
    "                  'h' : 's', 'i' : 'r', 'j' : 'q', 'k' : 'p', 'l' : 'o', 'm' : 'n', 'n' : 'm',\n",
    "                  'o' : 'l', 'p' : 'k', 'q' : 'j', 'r' : 'i', 's' : 'h', 't' : 'g', 'u' : 'f', 'v' : 'e',\n",
    "                  'w' : 'd', 'x' : 'c', 'y' : 'b', 'z' : 'a'}\n",
    "  \n",
    "def atbash(message): \n",
    "    cipher = '' \n",
    "    for char in message: \n",
    "        \n",
    "        if(char != ' '):\n",
    "            if char.isupper():\n",
    "                cipher += dictCapAlpha[char]\n",
    "            else:\n",
    "                cipher += dictSmallAlpha[char]\n",
    "        else: \n",
    "            \n",
    "            cipher += ' '\n",
    "  \n",
    "    return cipher \n",
    "  \n",
    "\n",
    "   \n",
    "  \n"
   ]
  },
  {
   "cell_type": "code",
   "execution_count": 2,
   "metadata": {},
   "outputs": [
    {
     "name": "stdout",
     "output_type": "stream",
     "text": [
      "Enter the text:Zlkdoxqrixqflk vlr plisba qeb pefcq zfmebo\n",
      "Text:  Zlkdoxqrixqflk vlr plisba qeb pefcq zfmebo\n",
      "Encrypted Text  Aopwlcjircjuop eoi korhyz jvy kvuxj aunvyl\n",
      "Decrypted Text  Zlkdoxqrixqflk vlr plisba qeb pefcq zfmebo\n"
     ]
    }
   ],
   "source": [
    "\n",
    "text = input(\"Enter the text:\")\n",
    "print(\"Text: \", text)\n",
    "encrypttext = atbash(text)\n",
    "print(\"Encrypted Text \",encrypttext) \n",
    "      \n",
    "print(\"Decrypted Text \",atbash(encrypttext))\n",
    "  "
   ]
  },
  {
   "cell_type": "code",
   "execution_count": null,
   "metadata": {},
   "outputs": [],
   "source": []
  },
  {
   "cell_type": "code",
   "execution_count": null,
   "metadata": {},
   "outputs": [],
   "source": []
  },
  {
   "cell_type": "code",
   "execution_count": null,
   "metadata": {},
   "outputs": [],
   "source": []
  },
  {
   "cell_type": "code",
   "execution_count": null,
   "metadata": {},
   "outputs": [],
   "source": []
  },
  {
   "cell_type": "code",
   "execution_count": null,
   "metadata": {},
   "outputs": [],
   "source": []
  }
 ],
 "metadata": {
  "kernelspec": {
   "display_name": "Python 3",
   "language": "python",
   "name": "python3"
  },
  "language_info": {
   "codemirror_mode": {
    "name": "ipython",
    "version": 3
   },
   "file_extension": ".py",
   "mimetype": "text/x-python",
   "name": "python",
   "nbconvert_exporter": "python",
   "pygments_lexer": "ipython3",
   "version": "3.7.6"
  }
 },
 "nbformat": 4,
 "nbformat_minor": 4
}
